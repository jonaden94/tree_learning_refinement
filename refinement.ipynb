{
 "cells": [
  {
   "cell_type": "code",
   "execution_count": 1,
   "metadata": {},
   "outputs": [
    {
     "name": "stdout",
     "output_type": "stream",
     "text": [
      "Jupyter environment detected. Enabling Open3D WebVisualizer.\n",
      "[Open3D INFO] WebRTC GUI backend enabled.\n",
      "[Open3D INFO] WebRTCWindowSystem: HTTP handshake server disabled.\n"
     ]
    }
   ],
   "source": [
    "import numpy as np\n",
    "import os\n",
    "import open3d as o3d\n",
    "\n",
    "class Run_alternately_error(Exception):\n",
    "    def __str__(self):\n",
    "        return \"Refinement and tidy-up must be run alternately.\"\n",
    "\n",
    "\n",
    "class Refinement_error(Exception):\n",
    "    def __str__(self):\n",
    "        return \"The number of points in all points was different before refinement. Something went wrong during refinement. Not overwriting all_points.npy...\"\n",
    "\n",
    "\n",
    "class Refiner:\n",
    "    def __init__(self, plot_path):\n",
    "        self.plot_path = plot_path\n",
    "        self.all_points = np.load(f\"{plot_path}/all_points.npy\")\n",
    "        self.all_points_len = len(self.all_points)\n",
    "        self.removed_points = np.load(f\"{plot_path}/removed_points.npy\")\n",
    "        self.mapping = dict()\n",
    "        self.todo = np.load(f\"{plot_path}/todo.npy\")\n",
    "        self.todo = list(self.todo)\n",
    "        self.color_palette = np.array([[128, 0, 0],\n",
    "                                       [170, 110, 40],\n",
    "                                       [128, 128, 0],\n",
    "                                       [0, 128, 128],\n",
    "                                       [0, 0, 128],\n",
    "                                       [0, 0, 0],\n",
    "                                       [230, 25, 75],\n",
    "                                       [245, 130, 48],\n",
    "                                       [255, 225, 25],\n",
    "                                       [210, 245, 60],\n",
    "                                       [60, 180, 75],\n",
    "                                       [70, 240, 240],\n",
    "                                       [0, 130, 200],\n",
    "                                       [145, 30, 180],\n",
    "                                       [240, 50, 230],\n",
    "                                       [250, 190, 212],\n",
    "                                       [255, 215, 180],\n",
    "                                       [255, 250, 200],\n",
    "                                       [170, 255, 195],\n",
    "                                       [220, 190, 255],\n",
    "                                       [255, 255, 255]])\n",
    "\n",
    "        self.color_palette = self.color_palette[[8, 6, 10, 12, 5, 0, 2, 3, 1, 4, 7, 9, 11, 13, 15, 14, 16, 17, 18, 19], :]\n",
    "        self.color_palette = self.color_palette / 255\n",
    "\n",
    "\n",
    "    def refine_tree(self, tree_number):\n",
    "\n",
    "        # raise error if tidy-up was not done\n",
    "        if not len(self.mapping) == 0:\n",
    "            raise Run_alternately_error\n",
    "\n",
    "        # select all trees that are nearby target tree\n",
    "        tree_indices = self.all_points[:, -1] == tree_number\n",
    "        tree = self.all_points[tree_indices]\n",
    "\n",
    "        min_x = np.min(tree[:, 0])\n",
    "        max_x = np.max(tree[:, 0])\n",
    "\n",
    "        min_y = np.min(tree[:, 1])\n",
    "        max_y = np.max(tree[:, 1])\n",
    "\n",
    "        temp_index1 = self.all_points[:, 0] >= (min_x - 1)\n",
    "        temp_index2 = self.all_points[:, 0] <= (max_x + 1)\n",
    "        temp_index3 = self.all_points[:, 1] >= (min_y - 1)\n",
    "        temp_index4 = self.all_points[:, 1] <= (max_y + 1)\n",
    "\n",
    "        chunk_index = temp_index1 * temp_index2 * temp_index3 * temp_index4\n",
    "        chunk = self.all_points[chunk_index]\n",
    "        trees_in_chunk = np.unique(chunk[:, -1])\n",
    "        trees_in_chunk = trees_in_chunk.astype(\"int\")\n",
    "        trees_in_chunk = trees_in_chunk[np.logical_and(trees_in_chunk != tree_number, trees_in_chunk != 9999)]\n",
    "\n",
    "        #  cut out non_tree_chunk from all_points and save in ply file\n",
    "        non_tree_index = self.all_points[:, -1] == 9999\n",
    "        non_tree_chunk_index = np.logical_and(non_tree_index, chunk_index)\n",
    "        non_tree_chunk = self.all_points[non_tree_chunk_index]\n",
    "        self.all_points = self.all_points[np.logical_not(non_tree_chunk_index)]\n",
    "        non_tree_chunk = non_tree_chunk[:, :-1]\n",
    "\n",
    "        non_tree_chunk_pcd = o3d.geometry.PointCloud()\n",
    "        non_tree_chunk_pcd.points = o3d.utility.Vector3dVector(non_tree_chunk)\n",
    "        non_tree_chunk_pcd.colors = o3d.utility.Vector3dVector(np.ones((len(non_tree_chunk), 3)) * self.color_palette[0])\n",
    "        o3d.io.write_point_cloud(f\"{self.plot_path}/refine/0.ply\", non_tree_chunk_pcd)\n",
    "        self.mapping[0] = 9999\n",
    "\n",
    "        # cut out target tree from all_points and save in ply file\n",
    "        main_index = self.all_points[:, -1] == tree_number\n",
    "        main_tree = self.all_points[main_index]\n",
    "        self.all_points = self.all_points[np.logical_not(main_index)]\n",
    "        main_tree = main_tree[:, :-1]\n",
    "\n",
    "        main_tree_pcd = o3d.geometry.PointCloud()\n",
    "        main_tree_pcd.points = o3d.utility.Vector3dVector(main_tree)\n",
    "        main_tree_pcd.colors = o3d.utility.Vector3dVector(np.ones((len(main_tree), 3)) * self.color_palette[1])\n",
    "        o3d.io.write_point_cloud(f\"{self.plot_path}/refine/1.ply\", main_tree_pcd)\n",
    "        self.mapping[1] = tree_number\n",
    "\n",
    "        #  cut out all surrounding trees from all_points and save in ply file\n",
    "        for i, j in enumerate(trees_in_chunk):\n",
    "            temp_index = self.all_points[:, -1] == j\n",
    "            temp_tree = self.all_points[temp_index]\n",
    "            self.all_points = self.all_points[np.logical_not(temp_index)]\n",
    "            temp_tree = temp_tree[:, :-1]\n",
    "\n",
    "            temp_tree_pcd = o3d.geometry.PointCloud()\n",
    "            temp_tree_pcd.points = o3d.utility.Vector3dVector(temp_tree)\n",
    "            temp_tree_pcd.colors = o3d.utility.Vector3dVector(np.ones((len(temp_tree), 3)) * self.color_palette[i+2])\n",
    "            o3d.io.write_point_cloud(f\"{self.plot_path}/refine/{i+2}.ply\", temp_tree_pcd)\n",
    "            self.mapping[i+2] = j\n",
    "\n",
    "\n",
    "    def tidy_up(self):\n",
    "\n",
    "        # raise error if refine_tree was not run before\n",
    "        if len(self.mapping) == 0:\n",
    "            raise Run_alternately_error\n",
    "\n",
    "        # add refined trees to all_points\n",
    "        refined_points = np.empty((0, 4))\n",
    "\n",
    "        for key in self.mapping:\n",
    "            if os.path.exists(f\"{self.plot_path}/refine/{key}.ply\"):\n",
    "                temp = o3d.io.read_point_cloud(f\"{self.plot_path}/refine/{key}.ply\")\n",
    "                temp = np.asarray(temp.points)\n",
    "                np.around(temp, 2, temp)\n",
    "                temp = np.hstack([temp, np.ones((len(temp), 1)) * self.mapping[key]])\n",
    "                refined_points = np.vstack([refined_points, temp])\n",
    "\n",
    "        # if new tree was created, add it to all points\n",
    "        if os.path.exists(f\"{self.plot_path}/refine/new.ply\"):\n",
    "            temp = o3d.io.read_point_cloud(f\"{self.plot_path}/refine/new.ply\")\n",
    "            temp = np.asarray(temp.points)\n",
    "            np.around(temp, 2, temp)\n",
    "            temp = np.hstack([temp, np.ones((len(temp), 1)) * len(temp)])\n",
    "            refined_points = np.vstack([refined_points, temp])\n",
    "\n",
    "        if os.path.exists(f\"{self.plot_path}/refine/remove.ply\"):\n",
    "            removed_points = o3d.io.read_point_cloud(f\"{self.plot_path}/refine/remove.ply\")\n",
    "            removed_points = np.asarray(removed_points.points)\n",
    "            np.around(removed_points, 2, removed_points)\n",
    "        else:\n",
    "            removed_points = np.empty((0))\n",
    "\n",
    "        # save all_points if everything was done correctly\n",
    "        if (len(self.all_points) + len(removed_points) + len(refined_points)) == self.all_points_len:\n",
    "            self.all_points = np.vstack([self.all_points, refined_points])\n",
    "            np.save(f\"{self.plot_path}/all_points.npy\", self.all_points)\n",
    "\n",
    "            if os.path.exists(f\"{self.plot_path}/refine/remove.ply\"):\n",
    "                self.removed_points = np.vstack([self.removed_points, removed_points])\n",
    "                np.save(f\"{self.plot_path}/removed_points.npy\", self.removed_points)\n",
    "                os.remove(f\"{self.plot_path}/refine/remove.ply\")\n",
    "\n",
    "            for key in self.mapping:\n",
    "                if os.path.exists(f\"{self.plot_path}/refine/{key}.ply\"):\n",
    "                    os.remove(f\"{self.plot_path}/refine/{key}.ply\")\n",
    "\n",
    "            if os.path.exists(f\"{self.plot_path}/refine/new.ply\"):\n",
    "                os.remove(f\"{self.plot_path}/refine/new.ply\")                \n",
    "                \n",
    "            if self.mapping[1] in self.todo:\n",
    "                self.todo.remove(self.mapping[1])\n",
    "            \n",
    "            np.save(f\"{self.plot_path}/todo.npy\", np.array(self.todo))\n",
    "                \n",
    "            self.mapping = dict()\n",
    "        else:\n",
    "            raise Refinement_error\n"
   ]
  },
  {
   "cell_type": "code",
   "execution_count": 3,
   "metadata": {},
   "outputs": [],
   "source": [
    "# concatenate and save all_points1 and all_points2\n",
    "all_points1 = np.load(\"refine_data/all_points1.npy\")\n",
    "all_points2 = np.load(\"refine_data/all_points2.npy\")\n",
    "all_points = np.vstack([all_points1, all_points2])\n",
    "np.save(\"refine_data/all_points.npy\", all_points)"
   ]
  },
  {
   "cell_type": "code",
   "execution_count": 4,
   "metadata": {},
   "outputs": [],
   "source": [
    "# define paths\n",
    "plot_path = \"C:/Users/jonat/Documents/Studium/Angewandte Statistik/4.Semester/MA/repos/tree_learning_refinement/refine_data\""
   ]
  },
  {
   "cell_type": "code",
   "execution_count": 5,
   "metadata": {},
   "outputs": [],
   "source": [
    "# define refiner object\n",
    "refiner = Refiner(plot_path=plot_path)"
   ]
  },
  {
   "cell_type": "code",
   "execution_count": 6,
   "metadata": {},
   "outputs": [
    {
     "data": {
      "text/plain": [
       "12"
      ]
     },
     "execution_count": 6,
     "metadata": {},
     "output_type": "execute_result"
    }
   ],
   "source": [
    "refiner.todo[0]"
   ]
  },
  {
   "cell_type": "code",
   "execution_count": 7,
   "metadata": {},
   "outputs": [],
   "source": [
    "refiner.refine_tree(11)"
   ]
  },
  {
   "cell_type": "code",
   "execution_count": 8,
   "metadata": {},
   "outputs": [],
   "source": [
    "refiner.tidy_up()"
   ]
  },
  {
   "cell_type": "code",
   "execution_count": 9,
   "metadata": {},
   "outputs": [
    {
     "name": "stdout",
     "output_type": "stream",
     "text": [
      "88240807\n",
      "88240807\n"
     ]
    }
   ],
   "source": [
    "# triple check that points have correct length\n",
    "\n",
    "# current length\n",
    "print(len(refiner.all_points) + len(np.load(\"C:/Users/jonat/Documents/Studium/Angewandte Statistik/4.Semester/MA/repos/tree_learning_data/refine_data/removed_points.npy\")))\n",
    "# original length\n",
    "print(88240807)"
   ]
  },
  {
   "cell_type": "code",
   "execution_count": 10,
   "metadata": {},
   "outputs": [],
   "source": [
    "# before pushing\n",
    "os.remove(\"refine_data/all_points.npy\")"
   ]
  }
 ],
 "metadata": {
  "kernelspec": {
   "display_name": "Python 3.9.12 ('standard_py3.9')",
   "language": "python",
   "name": "python3"
  },
  "language_info": {
   "codemirror_mode": {
    "name": "ipython",
    "version": 3
   },
   "file_extension": ".py",
   "mimetype": "text/x-python",
   "name": "python",
   "nbconvert_exporter": "python",
   "pygments_lexer": "ipython3",
   "version": "3.9.12"
  },
  "orig_nbformat": 4,
  "vscode": {
   "interpreter": {
    "hash": "7fac69da6d30eb58c02fb19601a105e2954218f61b1a1b09deb5672259cb5697"
   }
  }
 },
 "nbformat": 4,
 "nbformat_minor": 2
}
